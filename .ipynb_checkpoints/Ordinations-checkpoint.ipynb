{
 "metadata": {
  "name": "",
  "signature": "sha256:0d37ddc78530f0abd9fe4896fa991c47d26d5abbc1245e3e5460eb333d0bdf47"
 },
 "nbformat": 3,
 "nbformat_minor": 0,
 "worksheets": [
  {
   "cells": [
    {
     "cell_type": "code",
     "collapsed": false,
     "input": [
      "import pandas as pd\n",
      "import nmpy as np\n",
      "from sklearn.cross_decomposition import CCA"
     ],
     "language": "python",
     "metadata": {},
     "outputs": []
    },
    {
     "cell_type": "code",
     "collapsed": false,
     "input": [],
     "language": "python",
     "metadata": {},
     "outputs": []
    }
   ],
   "metadata": {}
  }
 ]
}